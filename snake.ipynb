{
 "cells": [
  {
   "cell_type": "code",
   "execution_count": 1,
   "metadata": {},
   "outputs": [],
   "source": [
    "\"\"\"\n",
    "Mohammad saeed ibrahim dallash\n",
    "automated-Snake using openCV\n",
    "\"\"\"\n",
    "import cv2\n",
    "import numpy as np\n",
    "import math\n",
    "import random\n",
    "from matplotlib import pyplot as plt"
   ]
  },
  {
   "cell_type": "code",
   "execution_count": 2,
   "metadata": {},
   "outputs": [],
   "source": [
    "lines = [[25,17],[25,18],[25,17],[25,20],[25,21],[25,22]]\n",
    "\n",
    "score = 0\n",
    "\n",
    "size = 50\n",
    "\n",
    "state = 'd'"
   ]
  },
  {
   "cell_type": "code",
   "execution_count": 3,
   "metadata": {},
   "outputs": [],
   "source": [
    "def move(lines):\n",
    "    last = lines[-1]\n",
    "\n",
    "    lines.pop(0)\n",
    "\n",
    "    if state == 's':\n",
    "        lines.append([last[0]+1, last[1]]) \n",
    "    elif state == 'w':\n",
    "        lines.append([last[0]-1, last[1]]) \n",
    "    elif state == 'd':\n",
    "        lines.append([last[0], last[1]+1]) \n",
    "    elif state == 'a':\n",
    "        lines.append([last[0], last[1]-1]) \n",
    "\n",
    "    return lines"
   ]
  },
  {
   "cell_type": "code",
   "execution_count": 4,
   "metadata": {},
   "outputs": [],
   "source": [
    "def decide(lines,state,ball,score):\n",
    "        \n",
    "    if  lines[-1][0] ==ball[0] and lines[-1][1] != ball[1]: #have the same y\n",
    "        if lines[-1][1] < ball[1]:\n",
    "            state = 'd'\n",
    "        else:\n",
    "            state = 'a'\n",
    "\n",
    "    if  lines[-1][1] == ball[1] and lines[-1][0]!=ball[0]: #have the same x\n",
    "        if lines[-1][0] > ball[0]:\n",
    "            state = 'w'\n",
    "        else:\n",
    "            state = 's'\n",
    "    \n",
    "    if (lines[-1][0] == size-1 or ([lines[-1][0]+1, lines[-1][1] ] in lines)) and state == 's':\n",
    "            state = 'd'\n",
    "\n",
    "    if (lines[-1][1] == size-1 or ([lines[-1][0], lines[-1][1]+1 ] in lines)) and state == 'd':\n",
    "            state = 'w'\n",
    "\n",
    "    if (lines[-1][0] == 0 or ([lines[-1][0]-1, lines[-1][1]] in lines)) and state == 'w':\n",
    "            state = 'a'\n",
    "\n",
    "    if (lines[-1][1] == 0 or ([ lines[-1][0], lines[-1][1]-1] in lines)) and state == 'a':\n",
    "            state = 's'\n",
    "    \n",
    "    if lines[-1] == ball:\n",
    "        score+=1\n",
    "        for i in range(5):\n",
    "                lines.append(lines[-1])\n",
    "        ball = [random.randint(0, size-1), random.randint(0, size-1)] \n",
    "        while ball in lines:\n",
    "                ball = [random.randint(0, size-1), random.randint(0, size-1)] \n",
    "\n",
    "\n",
    "    return state,ball,score"
   ]
  },
  {
   "cell_type": "code",
   "execution_count": 5,
   "metadata": {},
   "outputs": [],
   "source": [
    "\n",
    "def gameOver(lines):\n",
    "    c=0\n",
    "    lasti = lines[-1][1]\n",
    "    lastj = lines[-1][0]\n",
    "    for j in range (max(lastj-1,0),min (lastj+2,size-1)):\n",
    "        for i in range (max(lasti-1,0),min (lasti+2,size-1)):\n",
    "            if  ([j,i] in lines):\n",
    "                c+=1\n",
    "\n",
    "    if c==9 :\n",
    "        return True \n",
    "    else:\n",
    "        return False  "
   ]
  },
  {
   "cell_type": "code",
   "execution_count": 6,
   "metadata": {},
   "outputs": [],
   "source": [
    "ball = [random.randint(0, size-1), random.randint(0, size-1)] \n",
    "while ball in lines:\n",
    "        ball = [random.randint(0, size-1), random.randint(0, size-1)] \n",
    "\n",
    "cv2.namedWindow('img')\n",
    "\n",
    "while True:\n",
    "    img = np.zeros( (size,size,1),np.uint8)\n",
    "\n",
    "    for x in lines:\n",
    "        img[x[0]][x[1]] = 255\n",
    "     \n",
    "    state,ball,score = decide(lines,state,ball,score)\n",
    "    lines = move(lines)\n",
    "  \n",
    "    img[ball[0]][ball[1]] = 255\n",
    "\n",
    "   \n",
    "    resized = cv2.resize(img, (500,500), interpolation = cv2.INTER_AREA)\n",
    "    cv2.putText(resized, 'Score '+ str(score),(200,50),5 ,.8,(255,0,0),1)\n",
    "    cv2.imshow('img',resized)\n",
    "\n",
    "    k = cv2.waitKey(5)\n",
    "    if k==ord('q'):\n",
    "        break\n",
    "\n",
    "    if gameOver(lines):\n",
    "        break\n",
    "    \n",
    "if  gameOver(lines):\n",
    "    img = np.zeros( (500,500,1),np.uint8)\n",
    "    cv2.putText(img, 'Game Over',(170,190),5 ,1.2,(255,0,0),1)\n",
    "    cv2.imshow('img',img)\n",
    "    k = cv2.waitKey(0)\n",
    "cv2.destroyAllWindows()"
   ]
  }
 ],
 "metadata": {
  "kernelspec": {
   "display_name": "Python 3.10.7 64-bit",
   "language": "python",
   "name": "python3"
  },
  "language_info": {
   "codemirror_mode": {
    "name": "ipython",
    "version": 3
   },
   "file_extension": ".py",
   "mimetype": "text/x-python",
   "name": "python",
   "nbconvert_exporter": "python",
   "pygments_lexer": "ipython3",
   "version": "3.10.7"
  },
  "orig_nbformat": 4,
  "vscode": {
   "interpreter": {
    "hash": "1148b41f643348042aab581692ce0d0ce7ded6615235292ed93ce07aa48f581a"
   }
  }
 },
 "nbformat": 4,
 "nbformat_minor": 2
}
