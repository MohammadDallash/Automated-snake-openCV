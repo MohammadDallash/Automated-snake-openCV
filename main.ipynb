{
 "cells": [
  {
   "cell_type": "code",
   "execution_count": 1,
   "metadata": {},
   "outputs": [],
   "source": [
    "import cv2\n",
    "import numpy as np\n",
    "import math\n",
    "import random\n",
    "from matplotlib import pyplot as plt"
   ]
  },
  {
   "cell_type": "code",
   "execution_count": 2,
   "metadata": {},
   "outputs": [],
   "source": [
    "lines = [[40,49],[41,49],[42,49],[43,49],[44,49],[45,49]]\n",
    "\n",
    "size = 50\n",
    "\n",
    "state = 's'"
   ]
  },
  {
   "cell_type": "code",
   "execution_count": 3,
   "metadata": {},
   "outputs": [],
   "source": [
    "def move(lines):\n",
    "    last = lines[-1]\n",
    "\n",
    "    lines.pop(0)\n",
    "\n",
    "    if state == 's':\n",
    "        lines.append([last[0]+1, last[1]]) \n",
    "    elif state == 'w':\n",
    "        lines.append([last[0]-1, last[1]]) \n",
    "    elif state == 'd':\n",
    "        lines.append([last[0], last[1]+1]) \n",
    "    elif state == 'a':\n",
    "        lines.append([last[0], last[1]-1]) \n",
    "\n",
    "    return lines"
   ]
  },
  {
   "cell_type": "code",
   "execution_count": 4,
   "metadata": {},
   "outputs": [],
   "source": [
    "def decide(lines,state,ball):\n",
    "        \n",
    "    if lines[-1][0] == size-1 and state == 's':\n",
    "            state = 'd'\n",
    "\n",
    "    if lines[-1][1] == size-1 and state == 'd':\n",
    "            state = 'w'\n",
    "\n",
    "    if lines[-1][0] == 0 and state == 'w':\n",
    "            state = 'a'\n",
    "\n",
    "    if lines[-1][1] == 0 and state == 'a':\n",
    "            state = 's'\n",
    "\n",
    "    if  lines[-1][0] - ball[0] == 0: #have the same y\n",
    "        if lines[-1][0] < ball[0]:\n",
    "            state = 'd'\n",
    "        else:\n",
    "            state = 'a'\n",
    "\n",
    "    if  lines[-1][1] - ball[1] == 0: #have the same x\n",
    "        if lines[-1][0] < ball[0]:\n",
    "            state = 'w'\n",
    "        else:\n",
    "            state = 's'\n",
    "\n",
    "\n",
    "    if lines[-1] == ball:\n",
    "        ball = [random.randint(0, size-1), random.randint(0, size-1)] \n",
    "        while ball in lines:\n",
    "                ball = [random.randint(0, size-1), random.randint(0, size-1)] \n",
    "\n",
    "\n",
    "    return state,ball"
   ]
  },
  {
   "cell_type": "code",
   "execution_count": 5,
   "metadata": {},
   "outputs": [
    {
     "ename": "IndexError",
     "evalue": "index -51 is out of bounds for axis 0 with size 50",
     "output_type": "error",
     "traceback": [
      "\u001b[1;31m---------------------------------------------------------------------------\u001b[0m",
      "\u001b[1;31mIndexError\u001b[0m                                Traceback (most recent call last)",
      "Cell \u001b[1;32mIn [5], line 11\u001b[0m\n\u001b[0;32m      8\u001b[0m img \u001b[38;5;241m=\u001b[39m np\u001b[38;5;241m.\u001b[39mzeros( (size,size,\u001b[38;5;241m1\u001b[39m),np\u001b[38;5;241m.\u001b[39muint8)\n\u001b[0;32m     10\u001b[0m \u001b[38;5;28;01mfor\u001b[39;00m x \u001b[38;5;129;01min\u001b[39;00m lines:\n\u001b[1;32m---> 11\u001b[0m     \u001b[43mimg\u001b[49m\u001b[43m[\u001b[49m\u001b[43mx\u001b[49m\u001b[43m[\u001b[49m\u001b[38;5;241;43m0\u001b[39;49m\u001b[43m]\u001b[49m\u001b[43m]\u001b[49m\u001b[43m[\u001b[49m\u001b[43mx\u001b[49m\u001b[43m[\u001b[49m\u001b[38;5;241;43m1\u001b[39;49m\u001b[43m]\u001b[49m\u001b[43m]\u001b[49m \u001b[38;5;241m=\u001b[39m \u001b[38;5;241m255\u001b[39m\n\u001b[0;32m     14\u001b[0m state,ball \u001b[38;5;241m=\u001b[39m decide(lines,state,ball)\n\u001b[0;32m     15\u001b[0m lines \u001b[38;5;241m=\u001b[39m move(lines)\n",
      "\u001b[1;31mIndexError\u001b[0m: index -51 is out of bounds for axis 0 with size 50"
     ]
    }
   ],
   "source": [
    "ball = [random.randint(0, size-1), random.randint(0, size-1)] \n",
    "while ball in lines:\n",
    "        ball = [random.randint(0, size-1), random.randint(0, size-1)] \n",
    "\n",
    "cv2.namedWindow('img')\n",
    "\n",
    "while True:\n",
    "    img = np.zeros( (size,size,1),np.uint8)\n",
    "\n",
    "    for x in lines:\n",
    "        img[x[0]][x[1]] = 255\n",
    " \n",
    "    \n",
    "    state,ball = decide(lines,state,ball)\n",
    "    lines = move(lines)\n",
    "  \n",
    "    img[ball[0]][ball[1]] = 255\n",
    "\n",
    "   \n",
    "    resized = cv2.resize(img, (500,500), interpolation = cv2.INTER_AREA)\n",
    "    cv2.imshow('img',resized)\n",
    "\n",
    "    k = cv2.waitKey(20)\n",
    "    if k==ord('q'):\n",
    "        break\n",
    "\n",
    "cv2.destroyAllWindows()"
   ]
  }
 ],
 "metadata": {
  "kernelspec": {
   "display_name": "Python 3.10.7 64-bit",
   "language": "python",
   "name": "python3"
  },
  "language_info": {
   "codemirror_mode": {
    "name": "ipython",
    "version": 3
   },
   "file_extension": ".py",
   "mimetype": "text/x-python",
   "name": "python",
   "nbconvert_exporter": "python",
   "pygments_lexer": "ipython3",
   "version": "3.10.7"
  },
  "orig_nbformat": 4,
  "vscode": {
   "interpreter": {
    "hash": "1148b41f643348042aab581692ce0d0ce7ded6615235292ed93ce07aa48f581a"
   }
  }
 },
 "nbformat": 4,
 "nbformat_minor": 2
}
