{
 "cells": [
  {
   "cell_type": "code",
   "execution_count": null,
   "metadata": {},
   "outputs": [],
   "source": [
    "import cv2\n",
    "import numpy as np\n",
    "import math\n",
    "import random\n",
    "from matplotlib import pyplot as plt"
   ]
  },
  {
   "cell_type": "code",
   "execution_count": null,
   "metadata": {},
   "outputs": [],
   "source": [
    "lines = [[40,49],[41,49],[42,49],[43,49],[44,49],[45,49]]\n",
    "\n",
    "size = 50\n",
    "\n",
    "state = 's'"
   ]
  },
  {
   "cell_type": "code",
   "execution_count": null,
   "metadata": {},
   "outputs": [],
   "source": [
    "def move(lines):\n",
    "    last = lines[-1]\n",
    "\n",
    "    lines.pop(0)\n",
    "\n",
    "    if state == 's':\n",
    "        lines.append([last[0]+1, last[1]]) \n",
    "    elif state == 'w':\n",
    "        lines.append([last[0]-1, last[1]]) \n",
    "    elif state == 'd':\n",
    "        lines.append([last[0], last[1]+1]) \n",
    "    elif state == 'a':\n",
    "        lines.append([last[0], last[1]-1]) \n",
    "\n",
    "    return lines"
   ]
  },
  {
   "cell_type": "code",
   "execution_count": null,
   "metadata": {},
   "outputs": [],
   "source": [
    "def decide(lines,state,ball):\n",
    "        \n",
    "    if  lines[-1][0] ==ball[0] and lines[-1][1] != ball[1]: #have the same y\n",
    "        if lines[-1][1] < ball[1]:\n",
    "            state = 'd'\n",
    "        else:\n",
    "            state = 'a'\n",
    "\n",
    "    if  lines[-1][1] == ball[1] and lines[-1][0]!=ball[0]: #have the same x\n",
    "        if lines[-1][0] > ball[0]:\n",
    "            state = 'w'\n",
    "        else:\n",
    "            state = 's'\n",
    "    \n",
    "    if (lines[-1][0] == size-1 or ([lines[-1][0]+1, lines[-1][1] ] in lines)) and state == 's':\n",
    "            state = 'd'\n",
    "\n",
    "    if (lines[-1][1] == size-1 or ([lines[-1][0], lines[-1][1]+1 ] in lines)) and state == 'd':\n",
    "            state = 'w'\n",
    "\n",
    "    if (lines[-1][0] == 0 or ([lines[-1][0]-1, lines[-1][1]] in lines)) and state == 'w':\n",
    "            state = 'a'\n",
    "\n",
    "    if (lines[-1][1] == 0 or ([ lines[-1][0], lines[-1][1]-1] in lines)) and state == 'a':\n",
    "            state = 's'\n",
    "    \n",
    "    if lines[-1] == ball:\n",
    "        for i in range(15):\n",
    "                lines.append(lines[-1])\n",
    "        ball = [random.randint(0, size-1), random.randint(0, size-1)] \n",
    "        while ball in lines:\n",
    "                ball = [random.randint(0, size-1), random.randint(0, size-1)] \n",
    "\n",
    "\n",
    "    return state,ball"
   ]
  },
  {
   "cell_type": "code",
   "execution_count": null,
   "metadata": {},
   "outputs": [],
   "source": [
    "ball = [random.randint(0, size-1), random.randint(0, size-1)] \n",
    "while ball in lines:\n",
    "        ball = [random.randint(0, size-1), random.randint(0, size-1)] \n",
    "\n",
    "cv2.namedWindow('img')\n",
    "\n",
    "while True:\n",
    "    img = np.zeros( (size,size,1),np.uint8)\n",
    "\n",
    "    for x in lines:\n",
    "        img[x[0]][x[1]] = 255\n",
    " \n",
    "    \n",
    "    state,ball = decide(lines,state,ball)\n",
    "    lines = move(lines)\n",
    "  \n",
    "    img[ball[0]][ball[1]] = 255\n",
    "\n",
    "   \n",
    "    resized = cv2.resize(img, (500,500), interpolation = cv2.INTER_AREA)\n",
    "    cv2.imshow('img',resized)\n",
    "\n",
    "    k = cv2.waitKey(1)\n",
    "    if k==ord('q'):\n",
    "        break\n",
    "\n",
    "cv2.destroyAllWindows()"
   ]
  }
 ],
 "metadata": {
  "kernelspec": {
   "display_name": "Python 3.10.7 64-bit",
   "language": "python",
   "name": "python3"
  },
  "language_info": {
   "codemirror_mode": {
    "name": "ipython",
    "version": 3
   },
   "file_extension": ".py",
   "mimetype": "text/x-python",
   "name": "python",
   "nbconvert_exporter": "python",
   "pygments_lexer": "ipython3",
   "version": "3.10.7"
  },
  "orig_nbformat": 4,
  "vscode": {
   "interpreter": {
    "hash": "1148b41f643348042aab581692ce0d0ce7ded6615235292ed93ce07aa48f581a"
   }
  }
 },
 "nbformat": 4,
 "nbformat_minor": 2
}
